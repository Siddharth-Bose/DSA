{
 "cells": [
  {
   "cell_type": "code",
   "execution_count": 1,
   "id": "4da77ca7",
   "metadata": {},
   "outputs": [],
   "source": [
    "import pywhatkit as pwt"
   ]
  },
  {
   "cell_type": "code",
   "execution_count": 4,
   "id": "e77ad0f5",
   "metadata": {},
   "outputs": [
    {
     "name": "stdout",
     "output_type": "stream",
     "text": [
      "In 37 Seconds WhatsApp will open and after 15 Seconds Message will be Delivered!\n"
     ]
    }
   ],
   "source": [
    "pwt.sendwhatmsg('+917903929654','This message was sent using pywhatkit, A python library which sends whatsapp message automatically',10,27)"
   ]
  },
  {
   "cell_type": "code",
   "execution_count": 2,
   "id": "29ed6b15",
   "metadata": {},
   "outputs": [
    {
     "name": "stdout",
     "output_type": "stream",
     "text": [
      "In 12 Seconds WhatsApp will open and after 15 Seconds Message will be Delivered!\n"
     ]
    }
   ],
   "source": [
    "pwt.sendwhatmsg('+91 79036 72560','This message was sent using pywhatkit, A python library which sends whatsapp message',10,32)"
   ]
  },
  {
   "cell_type": "code",
   "execution_count": null,
   "id": "bb48cc2f",
   "metadata": {},
   "outputs": [],
   "source": []
  }
 ],
 "metadata": {
  "kernelspec": {
   "display_name": "Python 3 (ipykernel)",
   "language": "python",
   "name": "python3"
  },
  "language_info": {
   "codemirror_mode": {
    "name": "ipython",
    "version": 3
   },
   "file_extension": ".py",
   "mimetype": "text/x-python",
   "name": "python",
   "nbconvert_exporter": "python",
   "pygments_lexer": "ipython3",
   "version": "3.9.7"
  }
 },
 "nbformat": 4,
 "nbformat_minor": 5
}
