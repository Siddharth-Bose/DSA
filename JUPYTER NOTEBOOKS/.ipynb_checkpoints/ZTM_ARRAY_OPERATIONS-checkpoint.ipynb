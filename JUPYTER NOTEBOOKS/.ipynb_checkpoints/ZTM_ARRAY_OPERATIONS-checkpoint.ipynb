{
 "cells": [
  {
   "cell_type": "code",
   "execution_count": 1,
   "id": "3ef3d2bd",
   "metadata": {},
   "outputs": [],
   "source": [
    "from datetime import datetime"
   ]
  },
  {
   "cell_type": "code",
   "execution_count": null,
   "id": "ea28391a",
   "metadata": {},
   "outputs": [],
   "source": [
    "def findingNemo():\n",
    "    array=['Nemo' for x in range(100000)]\n",
    "    t0=datetime.now()\n",
    "    for i in range(0,len(array)):\n",
    "        if array[i]=='Nemo':\n",
    "            print('Found Nemo')\n",
    "    t1=datetime.now()\n",
    "    print(t1-t0)\n",
    "findingNemo()"
   ]
  },
  {
   "cell_type": "code",
   "execution_count": null,
   "id": "3a3f9d30",
   "metadata": {},
   "outputs": [],
   "source": []
  }
 ],
 "metadata": {
  "kernelspec": {
   "display_name": "Python 3 (ipykernel)",
   "language": "python",
   "name": "python3"
  },
  "language_info": {
   "codemirror_mode": {
    "name": "ipython",
    "version": 3
   },
   "file_extension": ".py",
   "mimetype": "text/x-python",
   "name": "python",
   "nbconvert_exporter": "python",
   "pygments_lexer": "ipython3",
   "version": "3.7.6"
  }
 },
 "nbformat": 4,
 "nbformat_minor": 5
}
