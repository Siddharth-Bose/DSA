{
 "cells": [
  {
   "cell_type": "code",
   "execution_count": null,
   "id": "5d6b2c09",
   "metadata": {},
   "outputs": [],
   "source": [
    "# There is a programming language with only four operations and one variable X:\n",
    "\n",
    "# ++X and X++ increments the value of the variable X by 1.\n",
    "# --X and X-- decrements the value of the variable X by 1.\n",
    "# Initially, the value of X is 0.\n",
    "\n",
    "# Given an array of strings operations containing a list of operations, return the final value of X after performing all the operations.\n",
    "\n",
    " \n",
    "\n",
    "# Example 1:\n",
    "\n",
    "# Input: operations = [\"--X\",\"X++\",\"X++\"]\n",
    "# Output: 1\n",
    "# Explanation: The operations are performed as follows:\n",
    "# Initially, X = 0.\n",
    "# --X: X is decremented by 1, X =  0 - 1 = -1.\n",
    "# X++: X is incremented by 1, X = -1 + 1 =  0.\n",
    "# X++: X is incremented by 1, X =  0 + 1 =  1.\n",
    "# Example 2:\n",
    "\n",
    "# Input: operations = [\"++X\",\"++X\",\"X++\"]\n",
    "# Output: 3\n",
    "# Explanation: The operations are performed as follows:\n",
    "# Initially, X = 0.\n",
    "# ++X: X is incremented by 1, X = 0 + 1 = 1.\n",
    "# ++X: X is incremented by 1, X = 1 + 1 = 2.\n",
    "# X++: X is incremented by 1, X = 2 + 1 = 3.\n",
    "# Example 3:\n",
    "\n",
    "# Input: operations = [\"X++\",\"++X\",\"--X\",\"X--\"]\n",
    "# Output: 0\n",
    "# Explanation: The operations are performed as follows:\n",
    "# Initially, X = 0.\n",
    "# X++: X is incremented by 1, X = 0 + 1 = 1.\n",
    "# ++X: X is incremented by 1, X = 1 + 1 = 2.\n",
    "# --X: X is decremented by 1, X = 2 - 1 = 1.\n",
    "# X--: X is decremented by 1, X = 1 - 1 = 0.\n",
    " \n",
    "\n",
    "# Constraints:\n",
    "\n",
    "# 1 <= operations.length <= 100\n",
    "# operations[i] will be either \"++X\", \"X++\", \"--X\", or \"X--\"."
   ]
  },
  {
   "cell_type": "code",
   "execution_count": 2,
   "id": "89c84d44",
   "metadata": {},
   "outputs": [
    {
     "data": {
      "text/plain": [
       "1"
      ]
     },
     "execution_count": 2,
     "metadata": {},
     "output_type": "execute_result"
    }
   ],
   "source": [
    "def finalValueAfterOperations(operations):\n",
    "        result=0\n",
    "        # for i in range(len(operations)):\n",
    "        #     if (operations[i]=='++X' or operations[i]=='X++'):\n",
    "        #         result+=1\n",
    "        #     elif (operations[i]=='--X' or operations[i]=='X--'):\n",
    "        #         result-=1\n",
    "        #     else:\n",
    "        #         return 0\n",
    "        add=0\n",
    "        sub=0\n",
    "        add=operations.count('X++')+operations.count('++X')\n",
    "        sub=operations.count('--X')+operations.count('X--')\n",
    "        result+=add\n",
    "        result-=sub\n",
    "        return result\n",
    "operations=['--X','X++','X++']\n",
    "finalValueAfterOperations(operations)"
   ]
  },
  {
   "cell_type": "code",
   "execution_count": null,
   "id": "531dec8e",
   "metadata": {},
   "outputs": [],
   "source": []
  }
 ],
 "metadata": {
  "kernelspec": {
   "display_name": "Python 3 (ipykernel)",
   "language": "python",
   "name": "python3"
  },
  "language_info": {
   "codemirror_mode": {
    "name": "ipython",
    "version": 3
   },
   "file_extension": ".py",
   "mimetype": "text/x-python",
   "name": "python",
   "nbconvert_exporter": "python",
   "pygments_lexer": "ipython3",
   "version": "3.7.6"
  }
 },
 "nbformat": 4,
 "nbformat_minor": 5
}
