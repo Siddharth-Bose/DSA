{
 "cells": [
  {
   "cell_type": "code",
   "execution_count": 1,
   "id": "79a8646b",
   "metadata": {},
   "outputs": [],
   "source": [
    "# GIVEN A LIST OF CHARACTERS RETURN THE FIRST SET OF RECURRING CHARACTERS\n",
    "\n",
    "# EXAMPLE INPUT: A,B,C,A\n",
    "# EXPECTED OUTPUT: A\n",
    "    \n",
    "# EXAMPLE INPUT: A,B,C,B,A\n",
    "# EXPECTED OUTPUT: A,B\n",
    "\n",
    "# EXAMPLE INPUT: A,B,C\n",
    "# EXPECTED OUTPUT: 0"
   ]
  },
  {
   "cell_type": "code",
   "execution_count": 52,
   "id": "c23cc9f8",
   "metadata": {},
   "outputs": [],
   "source": [
    "# take input as list of characters or numbers\n",
    "#check if you have seen the character before\n",
    "#loop through each character in the list:\n",
    "    #if not then add it to the set\n",
    "    #else add it to a new list\n",
    "#if the size of new list is 0 return 0\n",
    "#else return the list\n",
    "#print the list"
   ]
  },
  {
   "cell_type": "code",
   "execution_count": 49,
   "id": "972d7e23",
   "metadata": {},
   "outputs": [
    {
     "data": {
      "text/plain": [
       "[5]"
      ]
     },
     "execution_count": 49,
     "metadata": {},
     "output_type": "execute_result"
    }
   ],
   "source": [
    "def recurringElementInAList(input_list):\n",
    "    seen_element_set=set()\n",
    "    recurring_element_list=[]\n",
    "    for i in range(len(input_list)):  #O(n)\n",
    "        if(input_list[i] in seen_element_set):    #O(1)\n",
    "            recurring_element_list.append(input_list[i])    #O(1)\n",
    "        else:\n",
    "            seen_element_set.add(input_list[i]) #O(1)\n",
    "    if(len(recurring_element_list)==0):  #O(1)\n",
    "        return 0\n",
    "    return sorted(recurring_element_list)\n",
    "    \n",
    "input_list=[1,2,3,4,5,5]   \n",
    "recurringElementInAList(input_list)"
   ]
  },
  {
   "cell_type": "code",
   "execution_count": 51,
   "id": "37d3c932",
   "metadata": {},
   "outputs": [],
   "source": [
    "# TIME COMPLEXITY IS O(n)\n",
    "# SPACE COMPLEXITY IS O(seen_element_set+recurring_element_list)"
   ]
  }
 ],
 "metadata": {
  "kernelspec": {
   "display_name": "Python 3 (ipykernel)",
   "language": "python",
   "name": "python3"
  },
  "language_info": {
   "codemirror_mode": {
    "name": "ipython",
    "version": 3
   },
   "file_extension": ".py",
   "mimetype": "text/x-python",
   "name": "python",
   "nbconvert_exporter": "python",
   "pygments_lexer": "ipython3",
   "version": "3.7.6"
  }
 },
 "nbformat": 4,
 "nbformat_minor": 5
}
