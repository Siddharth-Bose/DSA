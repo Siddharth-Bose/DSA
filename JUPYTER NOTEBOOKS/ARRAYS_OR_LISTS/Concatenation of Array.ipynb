{
 "cells": [
  {
   "cell_type": "code",
   "execution_count": null,
   "id": "c87cc1e2",
   "metadata": {},
   "outputs": [],
   "source": [
    "# Given an integer array nums of length n, you want to create an array ans of length 2n where ans[i] == nums[i] and ans[i + n] == nums[i] for 0 <= i < n (0-indexed).\n",
    "\n",
    "# Specifically, ans is the concatenation of two nums arrays.\n",
    "\n",
    "# Return the array ans.\n",
    "\n",
    " \n",
    "\n",
    "# Example 1:\n",
    "\n",
    "# Input: nums = [1,2,1]\n",
    "# Output: [1,2,1,1,2,1]\n",
    "# Explanation: The array ans is formed as follows:\n",
    "# - ans = [nums[0],nums[1],nums[2],nums[0],nums[1],nums[2]]\n",
    "# - ans = [1,2,1,1,2,1]\n",
    "# Example 2:\n",
    "\n",
    "# # Input: nums = [1,3,2,1]\n",
    "# Output: [1,3,2,1,1,3,2,1]\n",
    "# Explanation: The array ans is formed as follows:\n",
    "# - ans = [nums[0],nums[1],nums[2],nums[3],nums[0],nums[1],nums[2],nums[3]]\n",
    "# - ans = [1,3,2,1,1,3,2,1]"
   ]
  },
  {
   "cell_type": "code",
   "execution_count": 3,
   "id": "f9374697",
   "metadata": {},
   "outputs": [
    {
     "data": {
      "text/plain": [
       "[1, 3, 2, 1, 1, 3, 2, 1]"
      ]
     },
     "execution_count": 3,
     "metadata": {},
     "output_type": "execute_result"
    }
   ],
   "source": [
    " def getConcatenation(nums):\n",
    "        nums+=nums\n",
    "        return nums\n",
    "nums=[1,3,2,1]\n",
    "getConcatenation(nums)"
   ]
  },
  {
   "cell_type": "code",
   "execution_count": null,
   "id": "35c601dd",
   "metadata": {},
   "outputs": [],
   "source": []
  }
 ],
 "metadata": {
  "kernelspec": {
   "display_name": "Python 3 (ipykernel)",
   "language": "python",
   "name": "python3"
  },
  "language_info": {
   "codemirror_mode": {
    "name": "ipython",
    "version": 3
   },
   "file_extension": ".py",
   "mimetype": "text/x-python",
   "name": "python",
   "nbconvert_exporter": "python",
   "pygments_lexer": "ipython3",
   "version": "3.7.6"
  }
 },
 "nbformat": 4,
 "nbformat_minor": 5
}
