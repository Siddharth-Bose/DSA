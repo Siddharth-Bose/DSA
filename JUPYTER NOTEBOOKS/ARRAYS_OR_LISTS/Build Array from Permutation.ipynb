{
 "cells": [
  {
   "cell_type": "code",
   "execution_count": null,
   "id": "a918bff4",
   "metadata": {},
   "outputs": [],
   "source": [
    "# Given a zero-based permutation nums (0-indexed), build an array ans of the same length where ans[i] = nums[nums[i]] for each 0 <= i < nums.length and return it.\n",
    "\n",
    "# A zero-based permutation nums is an array of distinct integers from 0 to nums.length - 1 (inclusive).\n",
    "\n",
    " \n",
    "\n",
    "# Example 1:\n",
    "\n",
    "# Input: nums = [0,2,1,5,3,4]\n",
    "# Output: [0,1,2,4,5,3]\n",
    "# Explanation: The array ans is built as follows: \n",
    "# ans = [nums[nums[0]], nums[nums[1]], nums[nums[2]], nums[nums[3]], nums[nums[4]], nums[nums[5]]]\n",
    "#     = [nums[0], nums[2], nums[1], nums[5], nums[3], nums[4]]\n",
    "#     = [0,1,2,4,5,3]\n",
    "# Example 2:\n",
    "\n",
    "# Input: nums = [5,0,1,2,3,4]\n",
    "# Output: [4,5,0,1,2,3]\n",
    "# Explanation: The array ans is built as follows:\n",
    "# ans = [nums[nums[0]], nums[nums[1]], nums[nums[2]], nums[nums[3]], nums[nums[4]], nums[nums[5]]]\n",
    "#     = [nums[5], nums[0], nums[1], nums[2], nums[3], nums[4]]\n",
    "#     = [4,5,0,1,2,3]\n",
    " \n",
    "\n",
    "# Constraints:\n",
    "\n",
    "# 1 <= nums.length <= 1000\n",
    "# 0 <= nums[i] < nums.length\n",
    "# The elements in nums are distinct."
   ]
  },
  {
   "cell_type": "code",
   "execution_count": 4,
   "id": "f3ed9b86",
   "metadata": {},
   "outputs": [
    {
     "data": {
      "text/plain": [
       "[0, 1, 2, 4, 5, 3]"
      ]
     },
     "execution_count": 4,
     "metadata": {},
     "output_type": "execute_result"
    }
   ],
   "source": [
    "def buildArray(nums):\n",
    "        # ans=[nums[nums[i]] for i in range(len(nums))]\n",
    "        ans=[]\n",
    "        for i in range(len(nums)):\n",
    "                ans.append(nums[nums[i]])\n",
    "        return ans\n",
    "nums=[0,2,1,5,3,4]\n",
    "buildArray(nums)"
   ]
  },
  {
   "cell_type": "code",
   "execution_count": null,
   "id": "b418d4bd",
   "metadata": {},
   "outputs": [],
   "source": []
  }
 ],
 "metadata": {
  "kernelspec": {
   "display_name": "Python 3 (ipykernel)",
   "language": "python",
   "name": "python3"
  },
  "language_info": {
   "codemirror_mode": {
    "name": "ipython",
    "version": 3
   },
   "file_extension": ".py",
   "mimetype": "text/x-python",
   "name": "python",
   "nbconvert_exporter": "python",
   "pygments_lexer": "ipython3",
   "version": "3.7.6"
  }
 },
 "nbformat": 4,
 "nbformat_minor": 5
}
