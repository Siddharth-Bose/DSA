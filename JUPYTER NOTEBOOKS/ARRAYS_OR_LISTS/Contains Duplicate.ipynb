{
 "cells": [
  {
   "cell_type": "code",
   "execution_count": 1,
   "id": "e2e012fe",
   "metadata": {},
   "outputs": [],
   "source": [
    "# Given an integer array nums, return true if any value appears at least twice in the array, and return false if every element\n",
    "# is distinct.\n",
    "\n",
    "# Example 1:\n",
    "\n",
    "# Input: nums = [1,2,3,1]\n",
    "# Output: true\n",
    "# Example 2:\n",
    "\n",
    "# Input: nums = [1,2,3,4]\n",
    "# Output: false\n",
    "# Example 3:\n",
    "\n",
    "# Input: nums = [1,1,1,3,3,4,3,2,4,2]\n",
    "# Output: true"
   ]
  },
  {
   "cell_type": "code",
   "execution_count": 2,
   "id": "cfffe58e",
   "metadata": {},
   "outputs": [
    {
     "name": "stdout",
     "output_type": "stream",
     "text": [
      "0:00:00\n",
      "false\n"
     ]
    }
   ],
   "source": [
    "from datetime import datetime as dt\n",
    "def containsDuplicates(nums):\n",
    "    t0=dt.now()\n",
    "    result ='false'\n",
    "    seen_element=set()\n",
    "    for i in range(0,len(nums)):\n",
    "        if(nums[i] not in seen_element):\n",
    "            seen_element.add(nums[i])    \n",
    "        else:\n",
    "            result='True'\n",
    "    t1=dt.now()\n",
    "    print(t1-t0)\n",
    "    return result\n",
    "print(containsDuplicates([1,2,3,4]))"
   ]
  },
  {
   "cell_type": "code",
   "execution_count": null,
   "id": "da0c0595",
   "metadata": {},
   "outputs": [],
   "source": []
  }
 ],
 "metadata": {
  "kernelspec": {
   "display_name": "Python 3 (ipykernel)",
   "language": "python",
   "name": "python3"
  },
  "language_info": {
   "codemirror_mode": {
    "name": "ipython",
    "version": 3
   },
   "file_extension": ".py",
   "mimetype": "text/x-python",
   "name": "python",
   "nbconvert_exporter": "python",
   "pygments_lexer": "ipython3",
   "version": "3.9.7"
  }
 },
 "nbformat": 4,
 "nbformat_minor": 5
}
