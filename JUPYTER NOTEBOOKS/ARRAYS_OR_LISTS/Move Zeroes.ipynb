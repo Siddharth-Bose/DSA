{
 "cells": [
  {
   "cell_type": "code",
   "execution_count": 1,
   "id": "a52ab713",
   "metadata": {},
   "outputs": [],
   "source": [
    "# Given an integer array nums, move all 0's to the end of it while maintaining the relative order of the non-zero elements.\n",
    "\n",
    "# Note that you must do this in-place without making a copy of the array.\n",
    "\n",
    " \n",
    "\n",
    "# Example 1:\n",
    "\n",
    "# Input: nums = [0,1,0,3,12]\n",
    "# Output: [1,3,12,0,0]\n",
    "# Example 2:\n",
    "\n",
    "# Input: nums = [0]\n",
    "# Output: [0]\n",
    " \n",
    "\n",
    "# Constraints:\n",
    "\n",
    "# 1 <= nums.length <= 104\n",
    "# -231 <= nums[i] <= 231 - 1\n",
    " \n",
    "\n",
    "# Follow up: Could you minimize the total number of operations done?"
   ]
  },
  {
   "cell_type": "code",
   "execution_count": 6,
   "id": "2cc932c5",
   "metadata": {},
   "outputs": [
    {
     "name": "stdout",
     "output_type": "stream",
     "text": [
      "[1, 3, 12, 0, 0]\n"
     ]
    }
   ],
   "source": [
    "def moveZeroes(nums):\n",
    "    count=nums.count(0)\n",
    "    for i in range(count):\n",
    "        nums.pop(nums.index(0))\n",
    "        nums.append(0)\n",
    "    return nums\n",
    "nums=[0,1,3,0,12]\n",
    "print(moveZeroes(nums))"
   ]
  },
  {
   "cell_type": "code",
   "execution_count": null,
   "id": "9b7aa532",
   "metadata": {},
   "outputs": [],
   "source": []
  }
 ],
 "metadata": {
  "kernelspec": {
   "display_name": "Python 3",
   "language": "python",
   "name": "python3"
  },
  "language_info": {
   "codemirror_mode": {
    "name": "ipython",
    "version": 3
   },
   "file_extension": ".py",
   "mimetype": "text/x-python",
   "name": "python",
   "nbconvert_exporter": "python",
   "pygments_lexer": "ipython3",
   "version": "3.8.8"
  }
 },
 "nbformat": 4,
 "nbformat_minor": 5
}
