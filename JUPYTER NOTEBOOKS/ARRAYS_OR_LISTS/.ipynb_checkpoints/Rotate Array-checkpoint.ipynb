{
 "cells": [
  {
   "cell_type": "code",
   "execution_count": 1,
   "id": "35518a99",
   "metadata": {},
   "outputs": [],
   "source": [
    "# Given an array, rotate the array to the right by k steps, where k is non-negative.\n",
    "\n",
    "# Example 1:\n",
    "\n",
    "# Input: nums = [1,2,3,4,5,6,7], k = 3\n",
    "# Output: [5,6,7,1,2,3,4]\n",
    "# Explanation:\n",
    "# rotate 1 steps to the right: [7,1,2,3,4,5,6]\n",
    "# rotate 2 steps to the right: [6,7,1,2,3,4,5]\n",
    "# rotate 3 steps to the right: [5,6,7,1,2,3,4]\n",
    "# Example 2:\n",
    "\n",
    "# Input: nums = [-1,-100,3,99], k = 2\n",
    "# Output: [3,99,-1,-100]\n",
    "# Explanation: \n",
    "# rotate 1 steps to the right: [99,-1,-100,3]\n",
    "# rotate 2 steps to the right: [3,99,-1,-100]\n",
    " \n",
    "\n",
    "# Constraints:\n",
    "\n",
    "# 1 <= nums.length <= 105\n",
    "# -231 <= nums[i] <= 231 - 1\n",
    "# 0 <= k <= 105\n",
    " \n",
    "\n",
    "# Follow up:\n",
    "\n",
    "# Try to come up with as many solutions as you can. There are at least three different ways to solve this problem.\n",
    "# Could you do it in-place with O(1) extra space?"
   ]
  },
  {
   "cell_type": "code",
   "execution_count": 2,
   "id": "7f1e24e8",
   "metadata": {},
   "outputs": [
    {
     "name": "stdout",
     "output_type": "stream",
     "text": [
      "[6, 7, 8, 1, 2, 3, 4, 5]\n"
     ]
    }
   ],
   "source": [
    "def rotate(nums,k):\n",
    "        \"\"\"\n",
    "        Do not return anything, modify nums in-place instead.\n",
    "        \"\"\"\n",
    "        if(k ==1):\n",
    "            insertion_element =nums[-1]\n",
    "            nums.pop()\n",
    "            nums.insert(0,insertion_element)\n",
    "        elif(k!=0):\n",
    "            for i in range(k):\n",
    "                insertion_element =nums[-1]\n",
    "                nums.pop()\n",
    "                nums.insert(0,insertion_element)\n",
    "        return nums\n",
    "nums=[1,2,3,4,5,6,7,8]\n",
    "print(rotate(nums,3))"
   ]
  },
  {
   "cell_type": "code",
   "execution_count": null,
   "id": "d1fbc7b9",
   "metadata": {},
   "outputs": [],
   "source": []
  }
 ],
 "metadata": {
  "kernelspec": {
   "display_name": "Python 3",
   "language": "python",
   "name": "python3"
  },
  "language_info": {
   "codemirror_mode": {
    "name": "ipython",
    "version": 3
   },
   "file_extension": ".py",
   "mimetype": "text/x-python",
   "name": "python",
   "nbconvert_exporter": "python",
   "pygments_lexer": "ipython3",
   "version": "3.8.8"
  }
 },
 "nbformat": 4,
 "nbformat_minor": 5
}
