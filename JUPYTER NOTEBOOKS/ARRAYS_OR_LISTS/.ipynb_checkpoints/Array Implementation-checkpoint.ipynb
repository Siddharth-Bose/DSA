{
 "cells": [
  {
   "cell_type": "code",
   "execution_count": null,
   "id": "b12fadb4",
   "metadata": {},
   "outputs": [],
   "source": [
    "# Implement an array data Structure\n",
    "\n",
    "# implement the push, pop, get operations\n",
    "\n",
    "# push is used to add an element to the end\n",
    "\n",
    "# pop is used to delete the last element, returns nothing\n",
    "\n",
    "# get take and index and returns the element at that index "
   ]
  }
 ],
 "metadata": {
  "kernelspec": {
   "display_name": "Python 3",
   "language": "python",
   "name": "python3"
  },
  "language_info": {
   "codemirror_mode": {
    "name": "ipython",
    "version": 3
   },
   "file_extension": ".py",
   "mimetype": "text/x-python",
   "name": "python",
   "nbconvert_exporter": "python",
   "pygments_lexer": "ipython3",
   "version": "3.8.8"
  }
 },
 "nbformat": 4,
 "nbformat_minor": 5
}
