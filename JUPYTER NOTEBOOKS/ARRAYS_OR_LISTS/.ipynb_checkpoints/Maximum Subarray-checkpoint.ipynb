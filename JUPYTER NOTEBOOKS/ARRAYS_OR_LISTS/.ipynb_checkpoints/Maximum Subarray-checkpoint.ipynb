{
 "cells": [
  {
   "cell_type": "code",
   "execution_count": null,
   "id": "2c01b7c2",
   "metadata": {},
   "outputs": [],
   "source": [
    "# Given an integer array nums, find the contiguous subarray (containing at least one number) which has the largest sum and \n",
    "# return its sum.\n",
    "\n",
    "# A subarray is a contiguous part of an array.\n",
    "\n",
    " \n",
    "\n",
    "# Example 1:\n",
    "\n",
    "# Input: nums = [-2,1,-3,4,-1,2,1,-5,4]\n",
    "# Output: 6\n",
    "# Explanation: [4,-1,2,1] has the largest sum = 6.\n",
    "# Example 2:\n",
    "\n",
    "# Input: nums = [1]\n",
    "# Output: 1\n",
    "# Example 3:\n",
    "\n",
    "# Input: nums = [5,4,-1,7,8]\n",
    "# Output: 23\n",
    " \n",
    "\n",
    "# Constraints:\n",
    "\n",
    "# 1 <= nums.length <= 105\n",
    "# -104 <= nums[i] <= 104"
   ]
  },
  {
   "cell_type": "code",
   "execution_count": 6,
   "id": "e699e5b4",
   "metadata": {},
   "outputs": [
    {
     "name": "stdout",
     "output_type": "stream",
     "text": [
      "7\n"
     ]
    }
   ],
   "source": [
    "import itertools\n",
    "def maxSubArray(nums):\n",
    "    max_arr = nums[0]\n",
    "    total = nums[0]\n",
    "    i=1\n",
    "    l=len(nums)\n",
    "    while i<l:\n",
    "        total = max(nums[i], total+nums[i])\n",
    "        if total>max_arr:\n",
    "            max_arr=total\n",
    "        i+=1\n",
    "    return max_arr\n",
    "nums=[-2,1,-3,4,-1,-2,1,5,-3]\n",
    "print(maxSubArray(nums))\n",
    "        \n",
    "        \n",
    "        \n",
    "        \n",
    "        \n",
    "        # result=0\n",
    "        # for i in range(len(nums)):\n",
    "        #     if(nums[i]<0):\n",
    "        #         pass\n",
    "        #     else:\n",
    "        #         result=result+1\n",
    "        # current_sum=0\n",
    "        # max_sum=0\n",
    "        # if(result==0):\n",
    "        #     for i in range(0,len(nums)):\n",
    "        #         max_sum=max(nums)\n",
    "        # else:\n",
    "        #     if(len(nums)==1):\n",
    "        #         return nums[0]\n",
    "        #     for i in range(len(nums)):\n",
    "        #             current_sum+=nums[i]\n",
    "        #             if(current_sum>max_sum):\n",
    "        #                 max_sum=current_sum\n",
    "        #             if(current_sum<0):\n",
    "        #                 current_sum=0\n",
    "        # return max_sum\n",
    "\n",
    "    \n",
    "\n",
    "        # lists = [[]]\n",
    "        # list2=[]\n",
    "        # for i in range(1,len(nums) + 1):\n",
    "        #     for j in range(i):\n",
    "        #         lists.append(nums[j: i])\n",
    "        # print(lists)\n",
    "        # if(len(nums)==0):\n",
    "        #     return 0\n",
    "        # elif(len(nums)==1):\n",
    "        #     return nums[0]\n",
    "        # else:\n",
    "        #     lists=lists[1:]\n",
    "        #     for number in lists:\n",
    "        #         list2.append(sum(number))\n",
    "        # return max(list2)"
   ]
  }
 ],
 "metadata": {
  "kernelspec": {
   "display_name": "Python 3 (ipykernel)",
   "language": "python",
   "name": "python3"
  },
  "language_info": {
   "codemirror_mode": {
    "name": "ipython",
    "version": 3
   },
   "file_extension": ".py",
   "mimetype": "text/x-python",
   "name": "python",
   "nbconvert_exporter": "python",
   "pygments_lexer": "ipython3",
   "version": "3.9.7"
  }
 },
 "nbformat": 4,
 "nbformat_minor": 5
}
