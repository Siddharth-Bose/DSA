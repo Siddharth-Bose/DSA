{
 "cells": [
  {
   "cell_type": "code",
   "execution_count": 3,
   "id": "22b5b42e",
   "metadata": {},
   "outputs": [],
   "source": [
    "# Given a string s containing just the characters '(', ')', '{', '}', '[' and ']', determine if the input string is valid.\n",
    "\n",
    "# An input string is valid if:\n",
    "\n",
    "# Open brackets must be closed by the same type of brackets.\n",
    "# Open brackets must be closed in the correct order.\n",
    " \n",
    "\n",
    "# Example 1:\n",
    "\n",
    "# Input: s = \"()\"\n",
    "# Output: true\n",
    "# Example 2:\n",
    "\n",
    "# Input: s = \"()[]{}\"\n",
    "# Output: true\n",
    "# Example 3:\n",
    "\n",
    "# Input: s = \"(]\"\n",
    "# Output: false\n",
    "# Example 4:\n",
    "\n",
    "# Input: s = \"([)]\"\n",
    "# Output: false\n",
    "# Example 5:\n",
    "\n",
    "# Input: s = \"{[]}\"\n",
    "# Output: true\n",
    " \n",
    "\n",
    "# Constraints:\n",
    "\n",
    "# 1 <= s.length <= 104\n",
    "# s consists of parentheses only '()[]{}'"
   ]
  },
  {
   "cell_type": "code",
   "execution_count": 4,
   "id": "7fd4d5d5",
   "metadata": {},
   "outputs": [
    {
     "name": "stdout",
     "output_type": "stream",
     "text": [
      "false\n",
      "false\n",
      "true\n"
     ]
    }
   ],
   "source": [
    "def isValid(s):\n",
    "        my_list=s[:]\n",
    "        result='false'\n",
    "        complement={'}':'{',')':'(',']':'['}\n",
    "        my_list2=[]\n",
    "        if(len(my_list)==1):\n",
    "            return result\n",
    "        else:\n",
    "            for i in range(len(my_list)):\n",
    "                if(my_list[i]=='{' or my_list[i]=='[' or my_list[i]=='('):\n",
    "                    my_list2.append(my_list[i])\n",
    "                elif(my_list[i]=='}' or my_list[i]==']' or my_list[i]==')'):\n",
    "                    if(len(my_list2)==0):\n",
    "                        my_list2.append(my_list[i])\n",
    "                    else:\n",
    "                        if(complement[my_list[i]]==my_list2[-1]):\n",
    "                            my_list2.pop()\n",
    "                        else:\n",
    "                            my_list2.append(my_list[i])\n",
    "            if(len(my_list2)==0):\n",
    "                result='true'\n",
    "                return result\n",
    "            else:\n",
    "                return result\n",
    "s=']'\n",
    "s1= '}('\n",
    "s2='[{()}]'\n",
    "print(isValid(s))\n",
    "print(isValid(s1))\n",
    "print(isValid(s2))"
   ]
  }
 ],
 "metadata": {
  "kernelspec": {
   "display_name": "Python 3",
   "language": "python",
   "name": "python3"
  },
  "language_info": {
   "codemirror_mode": {
    "name": "ipython",
    "version": 3
   },
   "file_extension": ".py",
   "mimetype": "text/x-python",
   "name": "python",
   "nbconvert_exporter": "python",
   "pygments_lexer": "ipython3",
   "version": "3.8.8"
  }
 },
 "nbformat": 4,
 "nbformat_minor": 5
}
