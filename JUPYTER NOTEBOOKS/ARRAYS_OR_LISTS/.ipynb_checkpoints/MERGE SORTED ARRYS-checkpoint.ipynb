{
 "cells": [
  {
   "cell_type": "code",
   "execution_count": 2,
   "id": "ec5fb97c",
   "metadata": {},
   "outputs": [],
   "source": [
    "# Given two sorted arrays.\n",
    "\n",
    "# form a new array having all the elements from array 1 and array 2 in the same sorted order\n",
    "\n",
    "# input:\n",
    "# array1=[1,5,9,30]\n",
    "# array2=[2,4,6,34]\n",
    "\n",
    "# output:\n",
    "# [1, 2, 4, 5, 6, 9, 30, 34]"
   ]
  },
  {
   "cell_type": "code",
   "execution_count": 4,
   "id": "2f9aadfe",
   "metadata": {},
   "outputs": [
    {
     "name": "stdout",
     "output_type": "stream",
     "text": [
      "[1, 5, 4, 6, 6, 9, 30, 34]\n"
     ]
    }
   ],
   "source": [
    "# bullshit code "
   ]
  },
  {
   "cell_type": "code",
   "execution_count": null,
   "id": "a37d65c4",
   "metadata": {},
   "outputs": [],
   "source": []
  }
 ],
 "metadata": {
  "kernelspec": {
   "display_name": "Python 3 (ipykernel)",
   "language": "python",
   "name": "python3"
  },
  "language_info": {
   "codemirror_mode": {
    "name": "ipython",
    "version": 3
   },
   "file_extension": ".py",
   "mimetype": "text/x-python",
   "name": "python",
   "nbconvert_exporter": "python",
   "pygments_lexer": "ipython3",
   "version": "3.9.7"
  }
 },
 "nbformat": 4,
 "nbformat_minor": 5
}
